{
 "cells": [
  {
   "cell_type": "markdown",
   "id": "367123f2-eaeb-4c21-94d9-6b91d99f0fc8",
   "metadata": {},
   "source": [
    "### <b>Question No. 1</b>"
   ]
  },
  {
   "cell_type": "markdown",
   "id": "9ceda972-1d02-4b83-9702-485b28f9e065",
   "metadata": {},
   "source": [
    "<b> Multiprocessing </b> : Multiprocessing is a built-in package that allows the system to run multiple processes simultaneously.<br>\n",
    "It is used to speed up the process."
   ]
  },
  {
   "cell_type": "markdown",
   "id": "9adaa4ac-d4a3-4b1c-b2b1-4b61f06b7c42",
   "metadata": {},
   "source": [
    "### <b>Question No. 2"
   ]
  },
  {
   "cell_type": "markdown",
   "id": "ce19737f-8d00-414b-84cc-f8a66c51ff24",
   "metadata": {},
   "source": [
    "The main difference between multiprocessing and multithreading is that multiprocessing uses multiple processors to execute tasks, while multithreading uses a single processor to execute multiple tasks"
   ]
  },
  {
   "cell_type": "markdown",
   "id": "64c5cf8b-55ab-4eea-97b3-87d46b83114a",
   "metadata": {},
   "source": [
    "### <b>Question No. 3"
   ]
  },
  {
   "cell_type": "code",
   "execution_count": 2,
   "id": "d96a401d-b716-4438-a4d6-462faed7a386",
   "metadata": {},
   "outputs": [
    {
     "name": "stdout",
     "output_type": "stream",
     "text": [
      "Message -1\n",
      "Message -2\n",
      "Message- 3 \n",
      "Last msg\n"
     ]
    }
   ],
   "source": [
    "import multiprocessing\n",
    "\n",
    "def sender(conn , msg):\n",
    "    for i in msg:\n",
    "        conn.send(i)\n",
    "    conn.close()\n",
    "    \n",
    "def receive(conn) :\n",
    "    while True:\n",
    "        try:\n",
    "            msg = conn.recv()\n",
    "        except Exception as e :\n",
    "            print(e)\n",
    "            break\n",
    "        print(msg)\n",
    "\n",
    "if __name__ == '__main__':\n",
    "    msg = [\"Message -1\" , \"Message -2\" , \"Message- 3 \" , \"Last msg\"]\n",
    "    parent_conn , child_conn = multiprocessing.Pipe()\n",
    "    m1 = multiprocessing.Process(target=sender , args = (child_conn , msg))\n",
    "    m2 = multiprocessing.Process(target=receive , args = (parent_conn,))\n",
    "    m1.start()\n",
    "    m2.start()\n",
    "    m1.join(timeout=0.1)\n",
    "    child_conn.close()\n",
    "    m2.join(timeout=0.1)\n",
    "    parent_conn.close()\n",
    "    m1.terminate()\n",
    "    m2.terminate()    "
   ]
  },
  {
   "cell_type": "markdown",
   "id": "b83cf481-c324-4334-aa90-46319d1f9741",
   "metadata": {},
   "source": [
    "### <b>Question No. 4"
   ]
  },
  {
   "cell_type": "markdown",
   "id": "081c3907-51a9-482c-9bbc-28f8b35a59e6",
   "metadata": {},
   "source": [
    "The multiprocessing pool in Python is a class that allows you to execute multiple tasks in parallel.<br>\n",
    "It is used to speed up computationally expensive tasks, such as image processing or machine learning."
   ]
  },
  {
   "cell_type": "markdown",
   "id": "b96bd76a-053b-4174-ac3a-bf4284c62504",
   "metadata": {},
   "source": [
    "### <b>Question No. 5"
   ]
  },
  {
   "cell_type": "markdown",
   "id": "9515a75b-32d8-4589-ae22-f8881c2ab319",
   "metadata": {},
   "source": [
    "To create a pool of worker processes in Python using the multiprocessing module, you can use the Pool() class. The Pool() class takes a number of arguments, including the number of worker processes to create."
   ]
  },
  {
   "cell_type": "code",
   "execution_count": 31,
   "id": "d38a076a-f0db-484f-b6fe-e8653dc75d85",
   "metadata": {},
   "outputs": [
    {
     "name": "stdout",
     "output_type": "stream",
     "text": [
      "Worker: 1\n",
      "Worker: 2\n",
      "\n",
      "Worker: 3\n",
      "Worker: 0\n",
      "\n",
      "\n",
      "Worker: 5\n",
      "Worker: 4\n",
      "\n",
      "Worker: 6\n",
      "\n",
      "Worker: 8\n",
      "Worker: 7\n",
      "\n",
      "\n",
      "\n",
      "\n",
      "Worker: 9\n",
      "\n"
     ]
    }
   ],
   "source": [
    "import multiprocessing\n",
    "\n",
    "def worker(num):\n",
    "    print(f'Worker: {num}\\n')\n",
    "\n",
    "if __name__ == '__main__':\n",
    "    pool = multiprocessing.Pool(processes=4)\n",
    "    for i in range(10):\n",
    "        pool.apply_async(worker, args=(i,))\n",
    "\n",
    "    pool.close()\n",
    "    pool.join()"
   ]
  },
  {
   "cell_type": "markdown",
   "id": "b87b63a3-d2fa-4810-808e-003dc5515360",
   "metadata": {},
   "source": [
    "This code will create a pool of 4 worker processes. Each worker process will call the worker() function with a different number. The pool.apply_async() function will submit the worker() function to the pool, and the pool.close() and pool.join() functions will ensure that all of the worker processes finish their work before the main process exits."
   ]
  },
  {
   "cell_type": "markdown",
   "id": "70119a9c-c810-4d0f-8329-44c9b2ec7b86",
   "metadata": {},
   "source": [
    "### <b>Question No. 6"
   ]
  },
  {
   "cell_type": "code",
   "execution_count": 40,
   "id": "37dd5988-0bb9-4972-b2a0-b4d83c43cfda",
   "metadata": {},
   "outputs": [
    {
     "name": "stdout",
     "output_type": "stream",
     "text": [
      "Process 1 is running...\n",
      "\n",
      "Process 2 is running...\n",
      "\n",
      "Process 3 is running...\n",
      "Process 4 is running...\n",
      "\n",
      "\n"
     ]
    }
   ],
   "source": [
    "import multiprocessing\n",
    "\n",
    "def process1():\n",
    "    print(\"Process 1 is running...\\n\")\n",
    "\n",
    "def process2():\n",
    "    print(\"Process 2 is running...\\n\")\n",
    "\n",
    "def process3():\n",
    "    print(\"Process 3 is running...\\n\")\n",
    "\n",
    "def process4():\n",
    "    print(\"Process 4 is running...\\n\")\n",
    "\n",
    "if __name__ == '__main__':\n",
    "    p1 = multiprocessing.Process(target=process1)\n",
    "    p2 = multiprocessing.Process(target=process2)\n",
    "    p3 = multiprocessing.Process(target=process3)\n",
    "    p4 = multiprocessing.Process(target=process4)\n",
    "\n",
    "    p1.start()\n",
    "    p2.start()\n",
    "    p3.start()\n",
    "    p4.start()\n",
    "\n",
    "    p1.join()\n",
    "    p2.join()\n",
    "    p3.join()\n",
    "    p4.join()"
   ]
  }
 ],
 "metadata": {
  "kernelspec": {
   "display_name": "Python 3 (ipykernel)",
   "language": "python",
   "name": "python3"
  },
  "language_info": {
   "codemirror_mode": {
    "name": "ipython",
    "version": 3
   },
   "file_extension": ".py",
   "mimetype": "text/x-python",
   "name": "python",
   "nbconvert_exporter": "python",
   "pygments_lexer": "ipython3",
   "version": "3.10.12"
  }
 },
 "nbformat": 4,
 "nbformat_minor": 5
}
